{
 "cells": [
  {
   "cell_type": "markdown",
   "id": "74393fdc-2b41-43b4-b2e4-fda2e377d9ac",
   "metadata": {},
   "source": [
    "# Data Science Tools and Ecosystem"
   ]
  },
  {
   "cell_type": "markdown",
   "id": "ee1d880c-e9b8-4966-a8f6-84635d07f2da",
   "metadata": {},
   "source": [
    "En este cuaderno, se resumen las herramientas y ecosistemas de ciencia de datos."
   ]
  },
  {
   "cell_type": "markdown",
   "id": "948f5c41-9731-47d5-b98a-edf4ed14fc1e",
   "metadata": {},
   "source": [
    "Algunos de los lenguajes populares que utilizan los científicos de datos son:\n",
    "\n",
    "1. Python\n",
    "2. R\n",
    "3. SQL\n",
    "4. Julia"
   ]
  },
  {
   "cell_type": "markdown",
   "id": "060000b9-5d66-4179-99b9-91bb8cfda85a",
   "metadata": {},
   "source": [
    "Algunas de las bibliotecas comúnmente utilizadas por los científicos de datos incluyen:\n",
    "\n",
    "1. Pandas\n",
    "2. NumPy\n",
    "3. Matplotlib\n",
    "4. Scikit-learn"
   ]
  },
  {
   "cell_type": "markdown",
   "id": "b69c6747-8782-4934-9515-380dc0aa7ecf",
   "metadata": {},
   "source": [
    "| Herramientas de Ciencia de Datos |\n",
    "|----------------------------------|\n",
    "| Jupyter Notebook                |\n",
    "| Apache Zeppelin                 |\n",
    "| RStudio                         |"
   ]
  },
  {
   "cell_type": "markdown",
   "id": "499d330b-4f6a-4bf6-80d8-44728cb69abf",
   "metadata": {},
   "source": [
    "### A continuación, se presentan algunos ejemplos de evaluación de expresiones aritméticas en Python:\n",
    "\n",
    "- Sumar: `5 + 3`  \n",
    "- Restar: `10 - 4`  \n",
    "- Multiplicación: `6 * 7`  \n",
    "- División: `20 / 4`  \n"
   ]
  },
  {
   "cell_type": "code",
   "execution_count": 3,
   "id": "b0eac1b9-8559-4574-a7a3-6d4a6d3b54f1",
   "metadata": {},
   "outputs": [
    {
     "name": "stdout",
     "output_type": "stream",
     "text": [
      "17\n"
     ]
    }
   ],
   "source": [
    "# Esta es una expresión aritmética simple para multiplicar y luego sumar enteros\n",
    "resultado = (3 * 4) + 5\n",
    "print (resultado)"
   ]
  },
  {
   "cell_type": "code",
   "execution_count": 4,
   "id": "d858abeb-2493-4ca9-994d-7e78c6f95951",
   "metadata": {},
   "outputs": [
    {
     "name": "stdout",
     "output_type": "stream",
     "text": [
      "3.3333333333333335\n"
     ]
    }
   ],
   "source": [
    "# Esto convertirá 200 minutos a horas dividiendo por 60\n",
    "horas = 200 / 60\n",
    "print (horas)"
   ]
  },
  {
   "cell_type": "markdown",
   "id": "31ef4e99-1467-4a61-b547-69819cfb0a8e",
   "metadata": {},
   "source": [
    "**Objetivos:**\n",
    "\n",
    "- Listar lenguajes populares para Ciencia de Datos.\n",
    "- Identificar bibliotecas comunes utilizadas en Ciencia de Datos.\n",
    "- Reconocer herramientas de desarrollo de código abierto para Ciencia de Datos.\n",
    "- Evaluar expresiones aritméticas simples en Python.\n"
   ]
  },
  {
   "cell_type": "markdown",
   "id": "365dc1f8-2fc2-42f6-b44d-7a97f7999707",
   "metadata": {},
   "source": [
    "## Autor\n",
    "\n",
    "Felipe Arismendi\n"
   ]
  },
  {
   "cell_type": "code",
   "execution_count": null,
   "id": "f477f803-b0e7-4f69-ba91-e08028420e1a",
   "metadata": {},
   "outputs": [],
   "source": []
  }
 ],
 "metadata": {
  "kernelspec": {
   "display_name": "Python 3 (ipykernel)",
   "language": "python",
   "name": "python3"
  },
  "language_info": {
   "codemirror_mode": {
    "name": "ipython",
    "version": 3
   },
   "file_extension": ".py",
   "mimetype": "text/x-python",
   "name": "python",
   "nbconvert_exporter": "python",
   "pygments_lexer": "ipython3",
   "version": "3.12.8"
  }
 },
 "nbformat": 4,
 "nbformat_minor": 5
}
